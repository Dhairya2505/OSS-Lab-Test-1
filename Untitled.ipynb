{
 "cells": [
  {
   "cell_type": "code",
   "execution_count": 65,
   "id": "4ed266b4-a983-4ad7-9125-3d7fe1596f9f",
   "metadata": {},
   "outputs": [],
   "source": [
    "%matplotlib inline\n",
    "\n",
    "import numpy as np\n",
    "from matplotlib import pyplot as plt"
   ]
  },
  {
   "cell_type": "code",
   "execution_count": 93,
   "id": "9288a77e-f9f8-45af-9601-ec3446530480",
   "metadata": {},
   "outputs": [],
   "source": [
    "array = [\n",
    "    [1,'name1',10000,'designation1','address1', 5, 'A'],\n",
    "    [2,'name2',20000,'designation2','address2', 6, 'A'],\n",
    "    [3,'name3',30000,'designation3','address3', 4, 'A'],\n",
    "    [4,'name4',40000,'designation4','address4', 8, 'A'],\n",
    "    [5,'name5',50000,'designation5','address5', 9, 'A'],\n",
    "    \n",
    "]\n",
    "\n",
    "employee = np.array(array)"
   ]
  },
  {
   "cell_type": "code",
   "execution_count": 69,
   "id": "0de0a6aa-59f5-4d0e-a199-fd8a740670b6",
   "metadata": {},
   "outputs": [],
   "source": [
    "def attendence(employee):\n",
    "    for item in employee:\n",
    "        att = input(f\"Is {item[1]} present('P') or absent('A') ? \")\n",
    "        item[6] = att\n",
    "    return employee"
   ]
  },
  {
   "cell_type": "code",
   "execution_count": 70,
   "id": "f21e763e-1b1f-423f-98b1-73f72d9ca2ba",
   "metadata": {},
   "outputs": [],
   "source": [
    "def change_rating(employee):\n",
    "    for item in employee:\n",
    "        choice = (input(f\"Change {item[1]}'s rating or not (Y/N) ? \"))\n",
    "        if(choice == 'Y'):\n",
    "            rating = int(input(f'Enter the new rating of {item[1]} : '))\n",
    "            item[5] = rating\n",
    "        else:\n",
    "            item[5] = int(item[5])\n",
    "    return employee"
   ]
  },
  {
   "cell_type": "code",
   "execution_count": 84,
   "id": "cac2449d-aaf7-4315-b2d9-f3761dd41b2c",
   "metadata": {},
   "outputs": [
    {
     "data": {
      "text/plain": [
       "array(['1', '2', '3', '4', '5'], dtype='<U12')"
      ]
     },
     "execution_count": 84,
     "metadata": {},
     "output_type": "execute_result"
    }
   ],
   "source": [
    "# 1\n",
    "\n",
    "employee_codes = employee[:,0]\n",
    "employee_codes"
   ]
  },
  {
   "cell_type": "code",
   "execution_count": 85,
   "id": "c3061a22-cdef-4ffd-86bf-96367d69a349",
   "metadata": {},
   "outputs": [
    {
     "name": "stdin",
     "output_type": "stream",
     "text": [
      "Is name1 present('P') or absent('A') ?  A\n",
      "Is name2 present('P') or absent('A') ?  P\n",
      "Is name3 present('P') or absent('A') ?  P\n",
      "Is name4 present('P') or absent('A') ?  P\n",
      "Is name5 present('P') or absent('A') ?  A\n"
     ]
    }
   ],
   "source": [
    "# 2\n",
    "\n",
    "employee = attendence(employee)"
   ]
  },
  {
   "cell_type": "code",
   "execution_count": 86,
   "id": "28b1ad9e-2182-4406-959a-f46a77bcc388",
   "metadata": {},
   "outputs": [
    {
     "data": {
      "text/plain": [
       "array([['1', 'name1', '10000', 'designation1', 'address1', '5', 'A'],\n",
       "       ['2', 'name2', '20000', 'designation2', 'address2', '6', 'P'],\n",
       "       ['3', 'name3', '30000', 'designation3', 'address3', '4', 'P'],\n",
       "       ['4', 'name4', '40000', 'designation4', 'address4', '8', 'P'],\n",
       "       ['5', 'name5', '50000', 'designation5', 'address5', '9', 'A']],\n",
       "      dtype='<U12')"
      ]
     },
     "execution_count": 86,
     "metadata": {},
     "output_type": "execute_result"
    }
   ],
   "source": [
    "employee"
   ]
  },
  {
   "cell_type": "code",
   "execution_count": 94,
   "id": "09158718-61ab-4188-a4a2-51dbdf78006e",
   "metadata": {},
   "outputs": [
    {
     "name": "stdin",
     "output_type": "stream",
     "text": [
      "Change name1's rating or not (Y/N) ?  Y\n",
      "Enter the new rating of name1 :  10\n",
      "Change name2's rating or not (Y/N) ?  N\n",
      "Change name3's rating or not (Y/N) ?  N\n",
      "Change name4's rating or not (Y/N) ?  N\n",
      "Change name5's rating or not (Y/N) ?  N\n"
     ]
    }
   ],
   "source": [
    "# 3\n",
    "\n",
    "employee = change_rating(employee)"
   ]
  },
  {
   "cell_type": "code",
   "execution_count": 95,
   "id": "7642ede6-c9b7-42c1-a458-edf7ed1c7fb2",
   "metadata": {},
   "outputs": [
    {
     "data": {
      "text/plain": [
       "array([['1', 'name1', '10000', 'designation1', 'address1', '10', 'A'],\n",
       "       ['2', 'name2', '20000', 'designation2', 'address2', '6', 'A'],\n",
       "       ['3', 'name3', '30000', 'designation3', 'address3', '4', 'A'],\n",
       "       ['4', 'name4', '40000', 'designation4', 'address4', '8', 'A'],\n",
       "       ['5', 'name5', '50000', 'designation5', 'address5', '9', 'A']],\n",
       "      dtype='<U12')"
      ]
     },
     "execution_count": 95,
     "metadata": {},
     "output_type": "execute_result"
    }
   ],
   "source": [
    "employee"
   ]
  },
  {
   "cell_type": "code",
   "execution_count": 89,
   "id": "e6997ce5-b0a5-4cc5-9333-7411c3b42d96",
   "metadata": {},
   "outputs": [
    {
     "data": {
      "text/plain": [
       "30000.0"
      ]
     },
     "execution_count": 89,
     "metadata": {},
     "output_type": "execute_result"
    }
   ],
   "source": [
    "# 4\n",
    "\n",
    "employee_avg_salary = employee_salary.mean()\n",
    "employee_avg_salary"
   ]
  },
  {
   "cell_type": "code",
   "execution_count": 90,
   "id": "f2b2fb33-3a5f-4448-9360-0354967a9b21",
   "metadata": {},
   "outputs": [
    {
     "data": {
      "text/plain": [
       "50000"
      ]
     },
     "execution_count": 90,
     "metadata": {},
     "output_type": "execute_result"
    }
   ],
   "source": [
    "# 4\n",
    "\n",
    "employee_max_salary = employee_salary[np.argmax(employee_salary)]\n",
    "employee_max_salary"
   ]
  },
  {
   "cell_type": "code",
   "execution_count": 91,
   "id": "4867835d-2d46-4efe-9527-18c44b0fc4b3",
   "metadata": {},
   "outputs": [
    {
     "data": {
      "text/plain": [
       "10000"
      ]
     },
     "execution_count": 91,
     "metadata": {},
     "output_type": "execute_result"
    }
   ],
   "source": [
    "# 4\n",
    "\n",
    "employee_min_salary = employee_salary[np.argmin(employee_salary)]\n",
    "employee_min_salary"
   ]
  },
  {
   "cell_type": "code",
   "execution_count": 92,
   "id": "e6f56066-9731-4341-80f9-b8c347886326",
   "metadata": {},
   "outputs": [
    {
     "data": {
      "text/plain": [
       "Text(0, 0.5, 'Performance')"
      ]
     },
     "execution_count": 92,
     "metadata": {},
     "output_type": "execute_result"
    },
    {
     "data": {
      "image/png": "[encoded data removed]",
      "text/plain": [
       "<Figure size 640x480 with 1 Axes>"
      ]
     },
     "metadata": {},
     "output_type": "display_data"
    }
   ],
   "source": [
    "# 5\n",
    "\n",
    "x = np.array(employee[:,0], dtype='int32')\n",
    "y = np.array(employee[:,5], dtype='int32')\n",
    "\n",
    "plt.scatter(x,y)\n",
    "plt.title(\"Performance Scatter Plot\")\n",
    "plt.xlabel(\"Employee Id\")\n",
    "plt.ylabel(\"Performance\")"
   ]
  },
  {
   "cell_type": "code",
   "execution_count": null,
   "id": "fd517258-475f-4a67-9fcc-280526de0479",
   "metadata": {},
   "outputs": [],
   "source": []
  }
 ],
 "metadata": {
  "kernelspec": {
   "display_name": "Python 3 (ipykernel)",
   "language": "python",
   "name": "python3"
  },
  "language_info": {
   "codemirror_mode": {
    "name": "ipython",
    "version": 3
   },
   "file_extension": ".py",
   "mimetype": "text/x-python",
   "name": "python",
   "nbconvert_exporter": "python",
   "pygments_lexer": "ipython3",
   "version": "3.12.4"
  }
 },
 "nbformat": 4,
 "nbformat_minor": 5
}
